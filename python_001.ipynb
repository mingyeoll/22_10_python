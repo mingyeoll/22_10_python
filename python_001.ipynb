{
  "nbformat": 4,
  "nbformat_minor": 0,
  "metadata": {
    "colab": {
      "provenance": [],
      "authorship_tag": "ABX9TyMw+hSWCxpVhL/DkmVO7vIM",
      "include_colab_link": true
    },
    "kernelspec": {
      "name": "python3",
      "display_name": "Python 3"
    },
    "language_info": {
      "name": "python"
    }
  },
  "cells": [
    {
      "cell_type": "markdown",
      "metadata": {
        "id": "view-in-github",
        "colab_type": "text"
      },
      "source": [
        "<a href=\"https://colab.research.google.com/github/mingyeoll/22_10_python/blob/main/python_001.ipynb\" target=\"_parent\"><img src=\"https://colab.research.google.com/assets/colab-badge.svg\" alt=\"Open In Colab\"/></a>"
      ]
    },
    {
      "cell_type": "markdown",
      "source": [
        "코렙과 깃헙의 첫번째 연결을 진행합니다. "
      ],
      "metadata": {
        "id": "yKdpFPtlli8u"
      }
    },
    {
      "cell_type": "code",
      "source": [
        "print(\"hello github\")\n",
        "print(\"hello python\")\n",
        "print(\"안녕하세요?\")\n",
        "print(\"programing에 입문하신것을 축하드립니다.\")"
      ],
      "metadata": {
        "colab": {
          "base_uri": "https://localhost:8080/"
        },
        "id": "EAqTYbvmmtYO",
        "outputId": "d8e07bdd-1965-447a-ce96-6f96504e8076"
      },
      "execution_count": 5,
      "outputs": [
        {
          "output_type": "stream",
          "name": "stdout",
          "text": [
            "hello github\n",
            "hello python\n",
            "안녕하세요?\n",
            "programing에 입문하신것을 축하드립니다.\n"
          ]
        }
      ]
    },
    {
      "cell_type": "code",
      "source": [
        "print(5+6)\n",
        "print(5-3)\n",
        "print(5/3)\n",
        "print(5//3)"
      ],
      "metadata": {
        "colab": {
          "base_uri": "https://localhost:8080/"
        },
        "id": "rcRHSJycp-Jd",
        "outputId": "a8e61a30-d9d7-4fad-d4ee-2f3c7f2695dd"
      },
      "execution_count": 6,
      "outputs": [
        {
          "output_type": "stream",
          "name": "stdout",
          "text": [
            "11\n",
            "2\n",
            "1.6666666666666667\n",
            "1\n"
          ]
        }
      ]
    },
    {
      "cell_type": "code",
      "source": [
        "print(\"사랑해\" * 10)"
      ],
      "metadata": {
        "colab": {
          "base_uri": "https://localhost:8080/"
        },
        "id": "S9zCOAoQrPQ1",
        "outputId": "250d2851-b5fb-4912-eff8-9746a63cb5bd"
      },
      "execution_count": 8,
      "outputs": [
        {
          "output_type": "stream",
          "name": "stdout",
          "text": [
            "사랑해사랑해사랑해사랑해사랑해사랑해사랑해사랑해사랑해사랑해\n"
          ]
        }
      ]
    },
    {
      "cell_type": "code",
      "source": [
        "ftemp = 90.0\n",
        "ctemp = ((ftemp-32.0)* 5.0/9.0)\n",
        "print(ctemp)"
      ],
      "metadata": {
        "colab": {
          "base_uri": "https://localhost:8080/"
        },
        "id": "ufn8Y1yjrkPt",
        "outputId": "758f9018-21d4-44cb-adea-fb29a7359274"
      },
      "execution_count": 9,
      "outputs": [
        {
          "output_type": "stream",
          "name": "stdout",
          "text": [
            "32.22222222222222\n"
          ]
        }
      ]
    },
    {
      "cell_type": "code",
      "source": [
        "print(\"강아지\"+\",고양이\")"
      ],
      "metadata": {
        "colab": {
          "base_uri": "https://localhost:8080/"
        },
        "id": "7tkdZoNOs9AF",
        "outputId": "b50a2c3d-089e-40dc-cf68-0f61c7778c87"
      },
      "execution_count": 12,
      "outputs": [
        {
          "output_type": "stream",
          "name": "stdout",
          "text": [
            "강아지,고양이\n"
          ]
        }
      ]
    },
    {
      "cell_type": "code",
      "source": [
        "x = 200\n",
        "x = 100\n",
        "print(x)\n",
        "\n",
        "x = 100\n",
        "y = 200\n",
        "print(x)"
      ],
      "metadata": {
        "colab": {
          "base_uri": "https://localhost:8080/"
        },
        "id": "BrP4sFIavPPd",
        "outputId": "306b30c2-8198-4585-e6b2-96742a88a219"
      },
      "execution_count": 13,
      "outputs": [
        {
          "output_type": "stream",
          "name": "stdout",
          "text": [
            "100\n",
            "100\n"
          ]
        }
      ]
    },
    {
      "cell_type": "code",
      "source": [
        "x = 100\n",
        "y = 200\n",
        "z = (x+y)\n",
        "print(z)\n",
        "print(x+y0)"
      ],
      "metadata": {
        "colab": {
          "base_uri": "https://localhost:8080/"
        },
        "id": "CAdREdBXvgbU",
        "outputId": "d5d70957-717f-49fc-d839-d81b0be5d965"
      },
      "execution_count": 14,
      "outputs": [
        {
          "output_type": "stream",
          "name": "stdout",
          "text": [
            "300\n",
            "300\n"
          ]
        }
      ]
    },
    {
      "cell_type": "code",
      "source": [
        "x = 100\n",
        "y = 200\n",
        "sum = x + y\n",
        "print(x,\"과\",y,\"의 합은\",sum,\"입니다.\")"
      ],
      "metadata": {
        "colab": {
          "base_uri": "https://localhost:8080/"
        },
        "id": "IG7r_wcbzE5l",
        "outputId": "0a03dcf8-f297-4177-9ffc-6c1bbac6b195"
      },
      "execution_count": 16,
      "outputs": [
        {
          "output_type": "stream",
          "name": "stdout",
          "text": [
            "100 과 200 의 합은 300 입니다.\n"
          ]
        }
      ]
    }
  ]
}